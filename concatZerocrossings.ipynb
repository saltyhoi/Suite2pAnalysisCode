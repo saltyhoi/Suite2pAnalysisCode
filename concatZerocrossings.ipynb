{
 "cells": [
  {
   "cell_type": "code",
   "execution_count": 1,
   "metadata": {
    "scrolled": false
   },
   "outputs": [],
   "source": [
    "from os import listdir\n",
    "from os.path import isfile, join\n",
    "import matplotlib.pyplot as plt\n",
    "import pyabf\n",
    "import numpy as np\n",
    "import pandas as pd\n",
    "from collections import Counter\n",
    "from scipy.signal import savgol_filter\n",
    "\n",
    "#Written by Danny Lim\n",
    "#Updated 5/11/2023"
   ]
  },
  {
   "cell_type": "code",
   "execution_count": 25,
   "metadata": {
    "scrolled": false
   },
   "outputs": [],
   "source": [
    "def abf_zc(mypath, if_plot=False):\n",
    "    abf = pyabf.ABF(mypath)\n",
    "    abf.setSweep(sweepNumber= 0, channel=0)\n",
    "    pY, pX = savgol_filter(abf.sweepY, window_length=5, polyorder=2), abf.sweepX\n",
    "    abf.setSweep(sweepNumber= 0, channel=1)\n",
    "    tY, tX = savgol_filter(abf.sweepY, window_length=5, polyorder=2), abf.sweepX\n",
    "\n",
    "    if if_plot:\n",
    "        fig, ax = plt.subplots(figsize=(30,5))\n",
    "        ax1 = ax.plot(tX, tY, label = 'stim') #tY = stim\n",
    "        ax2 = ax.plot(pX, pY, label = 'y-voltage') #pY = y-voltage\n",
    "        ax.legend(['stim','y-voltage'])\n",
    "        plt.show()\n",
    "\n",
    "    stimV = tY\n",
    "    frameV = pY\n",
    "\n",
    "    frameTimes = np.where(np.diff(np.sign(frameV)==1)!=0)[0][::2]\n",
    "\n",
    "    a = stimV - (0.5 * stimV.max())\n",
    "    zeroCrossings = np.where(np.diff(np.sign(a)==1)!=0)[0]\n",
    "    stimTimes = zeroCrossings[::2]\n",
    "\n",
    "    stimFrameVector = np.empty(len(stimTimes))\n",
    "    for s in range(len(stimTimes)):\n",
    "        gotime = stimTimes[s]\n",
    "        a = frameTimes > gotime\n",
    "        stimFrameVector[s] = np.where(a)[0][0]-1\n",
    "\n",
    "    stimMarkerTrace = 0. * frameTimes\n",
    "    for f in range(len(frameTimes)):\n",
    "        stimMarkerTrace[f] = stimV[frameTimes[f]]\n",
    "    framestamp = stimMarkerTrace > 1\n",
    "    zeroCrossings = np.where(np.diff(np.sign(framestamp.astype(\"int\"))==1))[0]\n",
    "    \n",
    "    return zeroCrossings, len(pY)//np.diff(frameTimes)[0]"
   ]
  },
  {
   "cell_type": "code",
   "execution_count": 30,
   "metadata": {},
   "outputs": [],
   "source": [
    "def abfs(mypath):\n",
    "    onlyfiles = [f for f in listdir(mypath) if isfile(join(mypath, f)) if f.split(\".\")[-1] == \"abf\" ]\n",
    "\n",
    "    abf_list = sorted(onlyfiles)\n",
    "    print(\"processing files in this order... : \")\n",
    "    print(abf_list)\n",
    "\n",
    "    zeroCrossings = []\n",
    "    l = 0\n",
    "    for abf_file in abf_list:\n",
    "        zc, last_frame = abf_zc(mypath + '/' + abf_file)\n",
    "        zeroCrossings = zeroCrossings + list(zc+l+1) # +1 because python index starts from 0\n",
    "        l += last_frame\n",
    "        #print(zc, last_frame)\n",
    "        \n",
    "    np.save(mypath + \"ZeroCrossings.npy\",zeroCrossings)\n",
    "    return np.array(zeroCrossings)"
   ]
  },
  {
   "cell_type": "code",
   "execution_count": 31,
   "metadata": {},
   "outputs": [
    {
     "name": "stdout",
     "output_type": "stream",
     "text": [
      "processing files in this order... : \n",
      "['23214000.abf']\n"
     ]
    },
    {
     "data": {
      "text/plain": [
       "array([ 401,  491,  530, ..., 8492, 8531, 8621])"
      ]
     },
     "execution_count": 31,
     "metadata": {},
     "output_type": "execute_result"
    }
   ],
   "source": [
    "mypath = \"/Volumes/My Passport for Mac/SampleData_/230214/LA24_1/abf\"\n",
    "zeroCrossings = abfs(mypath)\n",
    "zeroCrossings"
   ]
  },
  {
   "cell_type": "code",
   "execution_count": null,
   "metadata": {},
   "outputs": [],
   "source": []
  }
 ],
 "metadata": {
  "kernelspec": {
   "display_name": "Python 3 (ipykernel)",
   "language": "python",
   "name": "python3"
  },
  "language_info": {
   "codemirror_mode": {
    "name": "ipython",
    "version": 3
   },
   "file_extension": ".py",
   "mimetype": "text/x-python",
   "name": "python",
   "nbconvert_exporter": "python",
   "pygments_lexer": "ipython3",
   "version": "3.9.13"
  }
 },
 "nbformat": 4,
 "nbformat_minor": 4
}
